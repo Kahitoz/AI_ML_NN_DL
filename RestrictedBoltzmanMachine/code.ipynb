{
 "cells": [
  {
   "cell_type": "code",
   "execution_count": 2,
   "metadata": {},
   "outputs": [],
   "source": [
    "# Creating RBM\n",
    "import numpy as np\n",
    "\n",
    "class RBM:\n",
    "    def __init__(self, n_visible, n_hidden):\n",
    "        self.weights = np.random.randn(n_visible, n_hidden)\n",
    "        self.n_visible = n_visible\n",
    "        self.visible_node = np.zeros(n_visible)\n",
    "        self.n_hidden = n_hidden\n",
    "        self.hidden_node = np.zeros(n_hidden)"
   ]
  },
  {
   "cell_type": "code",
   "execution_count": 10,
   "metadata": {},
   "outputs": [
    {
     "name": "stdout",
     "output_type": "stream",
     "text": [
      " Visible Prob:  [0.62701706 0.57211077 0.37093431]\n",
      " Visible Prob:  [0.32072891 0.7695495  0.20813358]\n",
      " Visible Prob:  [0.62440534 0.53206649 0.39442267]\n",
      " Visible Prob:  [0.64281689 0.55859603 0.36654075]\n",
      " Visible Prob:  [0.59742955 0.5169653  0.39816417]\n",
      " Visible Prob:  [0.61568318 0.47821322 0.36991779]\n",
      " Visible Prob:  [0.57115383 0.50413265 0.40219019]\n",
      " Visible Prob:  [0.59590445 0.53457125 0.43935263]\n",
      " Visible Prob:  [0.55222326 0.49453388 0.40718963]\n",
      " Visible Prob:  [0.26280296 0.72247948 0.23787025]\n"
     ]
    }
   ],
   "source": [
    "import numpy as np\n",
    "\n",
    "num_visible = 3\n",
    "num_hidden = 4\n",
    "learning_rate = 0.1\n",
    "epochs = 100\n",
    "\n",
    "visible_bias = np.random.randn(num_visible)\n",
    "hidden_bias = np.random.randn(num_hidden)\n",
    "weights = np.random.randn(num_visible, num_hidden)\n",
    "\n",
    "feature_vectors = np.array([[1, 0, 1],\n",
    "                            [0, 1, 0],\n",
    "                            [1, 1, 0],\n",
    "                            [0, 0, 1],\n",
    "                            [1, 0, 0],\n",
    "                            [0, 1, 1],\n",
    "                            [1, 1, 1],\n",
    "                            [0, 0, 0],\n",
    "                            [1, 0, 1],\n",
    "                            [0, 1, 0]])\n",
    "\n",
    "def sigmoid(x):\n",
    "    return 1 / (1 + np.exp(-x))\n",
    "for epoch in range(epochs):\n",
    "    for v in feature_vectors:\n",
    "        h_probs = sigmoid(np.dot(v, weights) + hidden_bias)\n",
    "        h_prime = (h_probs > 0.5).astype(int)\n",
    "        v_probs = sigmoid(np.dot(h_prime, weights.T) + visible_bias)\n",
    "        weights += learning_rate * (np.outer(v, h_probs) - np.outer(v_probs, h_prime))\n",
    "        visible_bias += learning_rate * (v - v_probs)\n",
    "        hidden_bias += learning_rate * (h_probs - h_prime)\n",
    "\n",
    "\n",
    "\n"
   ]
  }
 ],
 "metadata": {
  "kernelspec": {
   "display_name": "Python 3",
   "language": "python",
   "name": "python3"
  },
  "language_info": {
   "codemirror_mode": {
    "name": "ipython",
    "version": 3
   },
   "file_extension": ".py",
   "mimetype": "text/x-python",
   "name": "python",
   "nbconvert_exporter": "python",
   "pygments_lexer": "ipython3",
   "version": "3.11.4"
  },
  "orig_nbformat": 4
 },
 "nbformat": 4,
 "nbformat_minor": 2
}

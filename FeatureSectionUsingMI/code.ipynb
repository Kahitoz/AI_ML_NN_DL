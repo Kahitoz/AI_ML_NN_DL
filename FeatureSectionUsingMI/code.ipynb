{
 "cells": [
  {
   "cell_type": "code",
   "execution_count": 22,
   "metadata": {},
   "outputs": [
    {
     "name": "stdout",
     "output_type": "stream",
     "text": [
      "Index(['Area', 'MajorAxisLength', 'MinorAxisLength', 'Eccentricity',\n",
      "       'ConvexArea', 'Extent', 'Perimeter', 'Class'],\n",
      "      dtype='object')\n"
     ]
    }
   ],
   "source": [
    "import pandas as pd\n",
    "\n",
    "dataset = pd.read_excel('Raisin_Dataset.xlsx')\n",
    "X = dataset.drop(columns=['Class'])\n",
    "print(dataset.columns)\n"
   ]
  },
  {
   "cell_type": "code",
   "execution_count": null,
   "metadata": {},
   "outputs": [],
   "source": [
    "from sklearn.impute import KNNImputer\n",
    "missing_values = dataset.isnull().sum()\n",
    "knn_imputer = KNNImputer(n_neighbors=5)\n",
    "dataset_imputed = knn_imputer.fit_transform(dataset)\n",
    "dataset_imputed = pd.DataFrame(dataset_imputed, columns=dataset.columns)\n",
    "dataset = dataset_imputed\n",
    "print(dataset)"
   ]
  },
  {
   "cell_type": "code",
   "execution_count": 17,
   "metadata": {},
   "outputs": [
    {
     "name": "stdout",
     "output_type": "stream",
     "text": [
      "Sorted Feature Order: ['Perimeter', 'MajorAxisLength', 'ConvexArea', 'Area', 'MinorAxisLength', 'Eccentricity', 'Extent']\n"
     ]
    }
   ],
   "source": [
    "from sklearn.feature_selection import mutual_info_classif\n",
    "\n",
    "y = dataset['Class']\n",
    "\n",
    "mutual_info_scores = mutual_info_classif(X, y, discrete_features='auto', random_state=42)\n",
    "mutual_info_df = pd.DataFrame({'Feature': X.columns, 'Mutual Info Score': mutual_info_scores})\n",
    "mutual_info_df_sorted = mutual_info_df.sort_values(by='Mutual Info Score', ascending=False)\n",
    "sorted_feature_order = mutual_info_df_sorted['Feature'].tolist()\n",
    "\n",
    "print(\"Sorted Feature Order:\", sorted_feature_order)\n"
   ]
  },
  {
   "cell_type": "code",
   "execution_count": 18,
   "metadata": {},
   "outputs": [
    {
     "name": "stdout",
     "output_type": "stream",
     "text": [
      "Error Rate =  0.21111111111111114\n"
     ]
    }
   ],
   "source": [
    "from sklearn.model_selection import train_test_split\n",
    "from sklearn.tree import DecisionTreeClassifier\n",
    "from sklearn.metrics import accuracy_score\n",
    "\n",
    "X_train, X_test, y_train, y_test = train_test_split(X, y, test_size=0.2, random_state=42)\n",
    "\n",
    "classifier = DecisionTreeClassifier(random_state=42)\n",
    "classifier.fit(X_train, y_train)\n",
    "\n",
    "y_prediction = classifier.predict(X_test)\n",
    "\n",
    "error_rate = 1-accuracy_score(y_test, y_prediction)\n",
    "print(\"Error Rate = \",error_rate)\n",
    "\n"
   ]
  },
  {
   "cell_type": "code",
   "execution_count": 23,
   "metadata": {},
   "outputs": [
    {
     "name": "stdout",
     "output_type": "stream",
     "text": [
      "Error Rate =  0.18888888888888888\n"
     ]
    }
   ],
   "source": [
    "X = dataset.drop(columns=['Class', 'Extent'])\n",
    "y = dataset['Class']\n",
    "\n",
    "X_train, X_test, y_train, y_test = train_test_split(X, y, test_size=0.2, random_state=42)\n",
    "classifier = DecisionTreeClassifier(random_state=42)\n",
    "classifier.fit(X_train, y_train)\n",
    "\n",
    "y_prediction = classifier.predict(X_test)\n",
    "\n",
    "error_rate = 1-accuracy_score(y_test, y_prediction)\n",
    "print(\"Error Rate = \",error_rate)"
   ]
  },
  {
   "cell_type": "code",
   "execution_count": 24,
   "metadata": {},
   "outputs": [
    {
     "name": "stdout",
     "output_type": "stream",
     "text": [
      "Error Rate =  0.21666666666666667\n"
     ]
    }
   ],
   "source": [
    "X = dataset.drop(columns=['Class', 'Extent', 'Eccentricity'])\n",
    "y = dataset['Class']\n",
    "\n",
    "X_train, X_test, y_train, y_test = train_test_split(X, y, test_size=0.2, random_state=42)\n",
    "classifier = DecisionTreeClassifier(random_state=42)\n",
    "classifier.fit(X_train, y_train)\n",
    "\n",
    "y_prediction = classifier.predict(X_test)\n",
    "\n",
    "error_rate = 1-accuracy_score(y_test, y_prediction)\n",
    "print(\"Error Rate = \",error_rate)"
   ]
  },
  {
   "cell_type": "code",
   "execution_count": 26,
   "metadata": {},
   "outputs": [
    {
     "ename": "KeyError",
     "evalue": "\"['f1', 'f0'] not found in axis\"",
     "output_type": "error",
     "traceback": [
      "\u001b[0;31m---------------------------------------------------------------------------\u001b[0m",
      "\u001b[0;31mKeyError\u001b[0m                                  Traceback (most recent call last)",
      "\u001b[1;32m/Users/kshitizsinha/Desktop/Desktop - Kshitiz’s MacBook Pro/WorkingDirectory/Projects/AI_ML_NN_DL/FeatureSectionUsingMI/code.ipynb Cell 7\u001b[0m line \u001b[0;36m1\n\u001b[1;32m      <a href='vscode-notebook-cell:/Users/kshitizsinha/Desktop/Desktop%20-%20Kshitiz%E2%80%99s%20MacBook%20Pro/WorkingDirectory/Projects/AI_ML_NN_DL/FeatureSectionUsingMI/code.ipynb#X10sZmlsZQ%3D%3D?line=8'>9</a>\u001b[0m excluded_features \u001b[39m=\u001b[39m [\u001b[39m'\u001b[39m\u001b[39mEccentricity\u001b[39m\u001b[39m'\u001b[39m, \u001b[39m'\u001b[39m\u001b[39mExtent\u001b[39m\u001b[39m'\u001b[39m]  \n\u001b[1;32m     <a href='vscode-notebook-cell:/Users/kshitizsinha/Desktop/Desktop%20-%20Kshitiz%E2%80%99s%20MacBook%20Pro/WorkingDirectory/Projects/AI_ML_NN_DL/FeatureSectionUsingMI/code.ipynb#X10sZmlsZQ%3D%3D?line=11'>12</a>\u001b[0m excluded_features\u001b[39m.\u001b[39mextend([\u001b[39m'\u001b[39m\u001b[39mf\u001b[39m\u001b[39m{}\u001b[39;00m\u001b[39m'\u001b[39m\u001b[39m.\u001b[39mformat(i), \u001b[39m'\u001b[39m\u001b[39mf\u001b[39m\u001b[39m{}\u001b[39;00m\u001b[39m'\u001b[39m\u001b[39m.\u001b[39mformat(i\u001b[39m-\u001b[39m\u001b[39m1\u001b[39m)])\n\u001b[0;32m---> <a href='vscode-notebook-cell:/Users/kshitizsinha/Desktop/Desktop%20-%20Kshitiz%E2%80%99s%20MacBook%20Pro/WorkingDirectory/Projects/AI_ML_NN_DL/FeatureSectionUsingMI/code.ipynb#X10sZmlsZQ%3D%3D?line=13'>14</a>\u001b[0m X_filtered \u001b[39m=\u001b[39m X\u001b[39m.\u001b[39;49mdrop(columns\u001b[39m=\u001b[39;49mexcluded_features)\n\u001b[1;32m     <a href='vscode-notebook-cell:/Users/kshitizsinha/Desktop/Desktop%20-%20Kshitiz%E2%80%99s%20MacBook%20Pro/WorkingDirectory/Projects/AI_ML_NN_DL/FeatureSectionUsingMI/code.ipynb#X10sZmlsZQ%3D%3D?line=15'>16</a>\u001b[0m clf \u001b[39m=\u001b[39m DecisionTreeClassifier(random_state\u001b[39m=\u001b[39m\u001b[39m42\u001b[39m)\n\u001b[1;32m     <a href='vscode-notebook-cell:/Users/kshitizsinha/Desktop/Desktop%20-%20Kshitiz%E2%80%99s%20MacBook%20Pro/WorkingDirectory/Projects/AI_ML_NN_DL/FeatureSectionUsingMI/code.ipynb#X10sZmlsZQ%3D%3D?line=17'>18</a>\u001b[0m param_grid \u001b[39m=\u001b[39m {\u001b[39m'\u001b[39m\u001b[39mmax_depth\u001b[39m\u001b[39m'\u001b[39m: [\u001b[39mNone\u001b[39;00m, \u001b[39m10\u001b[39m, \u001b[39m20\u001b[39m, \u001b[39m30\u001b[39m],\n\u001b[1;32m     <a href='vscode-notebook-cell:/Users/kshitizsinha/Desktop/Desktop%20-%20Kshitiz%E2%80%99s%20MacBook%20Pro/WorkingDirectory/Projects/AI_ML_NN_DL/FeatureSectionUsingMI/code.ipynb#X10sZmlsZQ%3D%3D?line=18'>19</a>\u001b[0m               \u001b[39m'\u001b[39m\u001b[39mmin_samples_split\u001b[39m\u001b[39m'\u001b[39m: [\u001b[39m2\u001b[39m, \u001b[39m5\u001b[39m, \u001b[39m10\u001b[39m]}\n",
      "File \u001b[0;32m/opt/homebrew/lib/python3.11/site-packages/pandas/core/frame.py:5258\u001b[0m, in \u001b[0;36mDataFrame.drop\u001b[0;34m(self, labels, axis, index, columns, level, inplace, errors)\u001b[0m\n\u001b[1;32m   5110\u001b[0m \u001b[39mdef\u001b[39;00m \u001b[39mdrop\u001b[39m(\n\u001b[1;32m   5111\u001b[0m     \u001b[39mself\u001b[39m,\n\u001b[1;32m   5112\u001b[0m     labels: IndexLabel \u001b[39m=\u001b[39m \u001b[39mNone\u001b[39;00m,\n\u001b[0;32m   (...)\u001b[0m\n\u001b[1;32m   5119\u001b[0m     errors: IgnoreRaise \u001b[39m=\u001b[39m \u001b[39m\"\u001b[39m\u001b[39mraise\u001b[39m\u001b[39m\"\u001b[39m,\n\u001b[1;32m   5120\u001b[0m ) \u001b[39m-\u001b[39m\u001b[39m>\u001b[39m DataFrame \u001b[39m|\u001b[39m \u001b[39mNone\u001b[39;00m:\n\u001b[1;32m   5121\u001b[0m \u001b[39m    \u001b[39m\u001b[39m\"\"\"\u001b[39;00m\n\u001b[1;32m   5122\u001b[0m \u001b[39m    Drop specified labels from rows or columns.\u001b[39;00m\n\u001b[1;32m   5123\u001b[0m \n\u001b[0;32m   (...)\u001b[0m\n\u001b[1;32m   5256\u001b[0m \u001b[39m            weight  1.0     0.8\u001b[39;00m\n\u001b[1;32m   5257\u001b[0m \u001b[39m    \"\"\"\u001b[39;00m\n\u001b[0;32m-> 5258\u001b[0m     \u001b[39mreturn\u001b[39;00m \u001b[39msuper\u001b[39;49m()\u001b[39m.\u001b[39;49mdrop(\n\u001b[1;32m   5259\u001b[0m         labels\u001b[39m=\u001b[39;49mlabels,\n\u001b[1;32m   5260\u001b[0m         axis\u001b[39m=\u001b[39;49maxis,\n\u001b[1;32m   5261\u001b[0m         index\u001b[39m=\u001b[39;49mindex,\n\u001b[1;32m   5262\u001b[0m         columns\u001b[39m=\u001b[39;49mcolumns,\n\u001b[1;32m   5263\u001b[0m         level\u001b[39m=\u001b[39;49mlevel,\n\u001b[1;32m   5264\u001b[0m         inplace\u001b[39m=\u001b[39;49minplace,\n\u001b[1;32m   5265\u001b[0m         errors\u001b[39m=\u001b[39;49merrors,\n\u001b[1;32m   5266\u001b[0m     )\n",
      "File \u001b[0;32m/opt/homebrew/lib/python3.11/site-packages/pandas/core/generic.py:4549\u001b[0m, in \u001b[0;36mNDFrame.drop\u001b[0;34m(self, labels, axis, index, columns, level, inplace, errors)\u001b[0m\n\u001b[1;32m   4547\u001b[0m \u001b[39mfor\u001b[39;00m axis, labels \u001b[39min\u001b[39;00m axes\u001b[39m.\u001b[39mitems():\n\u001b[1;32m   4548\u001b[0m     \u001b[39mif\u001b[39;00m labels \u001b[39mis\u001b[39;00m \u001b[39mnot\u001b[39;00m \u001b[39mNone\u001b[39;00m:\n\u001b[0;32m-> 4549\u001b[0m         obj \u001b[39m=\u001b[39m obj\u001b[39m.\u001b[39;49m_drop_axis(labels, axis, level\u001b[39m=\u001b[39;49mlevel, errors\u001b[39m=\u001b[39;49merrors)\n\u001b[1;32m   4551\u001b[0m \u001b[39mif\u001b[39;00m inplace:\n\u001b[1;32m   4552\u001b[0m     \u001b[39mself\u001b[39m\u001b[39m.\u001b[39m_update_inplace(obj)\n",
      "File \u001b[0;32m/opt/homebrew/lib/python3.11/site-packages/pandas/core/generic.py:4591\u001b[0m, in \u001b[0;36mNDFrame._drop_axis\u001b[0;34m(self, labels, axis, level, errors, only_slice)\u001b[0m\n\u001b[1;32m   4589\u001b[0m         new_axis \u001b[39m=\u001b[39m axis\u001b[39m.\u001b[39mdrop(labels, level\u001b[39m=\u001b[39mlevel, errors\u001b[39m=\u001b[39merrors)\n\u001b[1;32m   4590\u001b[0m     \u001b[39melse\u001b[39;00m:\n\u001b[0;32m-> 4591\u001b[0m         new_axis \u001b[39m=\u001b[39m axis\u001b[39m.\u001b[39;49mdrop(labels, errors\u001b[39m=\u001b[39;49merrors)\n\u001b[1;32m   4592\u001b[0m     indexer \u001b[39m=\u001b[39m axis\u001b[39m.\u001b[39mget_indexer(new_axis)\n\u001b[1;32m   4594\u001b[0m \u001b[39m# Case for non-unique axis\u001b[39;00m\n\u001b[1;32m   4595\u001b[0m \u001b[39melse\u001b[39;00m:\n",
      "File \u001b[0;32m/opt/homebrew/lib/python3.11/site-packages/pandas/core/indexes/base.py:6696\u001b[0m, in \u001b[0;36mIndex.drop\u001b[0;34m(self, labels, errors)\u001b[0m\n\u001b[1;32m   6694\u001b[0m \u001b[39mif\u001b[39;00m mask\u001b[39m.\u001b[39many():\n\u001b[1;32m   6695\u001b[0m     \u001b[39mif\u001b[39;00m errors \u001b[39m!=\u001b[39m \u001b[39m\"\u001b[39m\u001b[39mignore\u001b[39m\u001b[39m\"\u001b[39m:\n\u001b[0;32m-> 6696\u001b[0m         \u001b[39mraise\u001b[39;00m \u001b[39mKeyError\u001b[39;00m(\u001b[39mf\u001b[39m\u001b[39m\"\u001b[39m\u001b[39m{\u001b[39;00m\u001b[39mlist\u001b[39m(labels[mask])\u001b[39m}\u001b[39;00m\u001b[39m not found in axis\u001b[39m\u001b[39m\"\u001b[39m)\n\u001b[1;32m   6697\u001b[0m     indexer \u001b[39m=\u001b[39m indexer[\u001b[39m~\u001b[39mmask]\n\u001b[1;32m   6698\u001b[0m \u001b[39mreturn\u001b[39;00m \u001b[39mself\u001b[39m\u001b[39m.\u001b[39mdelete(indexer)\n",
      "\u001b[0;31mKeyError\u001b[0m: \"['f1', 'f0'] not found in axis\""
     ]
    }
   ],
   "source": [
    "from sklearn.model_selection import GridSearchCV\n",
    "from sklearn.model_selection import cross_val_score\n",
    "X = dataset.drop(columns=['Class'])\n",
    "y = dataset['Class'] \n",
    "prev_error_rate = float('inf')\n",
    "i = 1\n",
    "while True:\n",
    "    \n",
    "    excluded_features = ['Eccentricity', 'Extent']  \n",
    "    \n",
    "    \n",
    "    excluded_features.extend(['f{}'.format(i), 'f{}'.format(i-1)])\n",
    "    \n",
    "    X_filtered = X.drop(columns=excluded_features)\n",
    "    \n",
    "    clf = DecisionTreeClassifier(random_state=42)\n",
    "    \n",
    "    param_grid = {'max_depth': [None, 10, 20, 30],\n",
    "                  'min_samples_split': [2, 5, 10]}\n",
    "    \n",
    "    grid_search = GridSearchCV(estimator=clf, param_grid=param_grid, cv=10, scoring='accuracy')\n",
    "    \n",
    "    cv_scores = cross_val_score(grid_search, X_filtered, y, cv=10)\n",
    "    \n",
    "    cv_accuracy = cv_scores.mean()\n",
    "\n",
    "    error_rate_i = 1 - cv_accuracy\n",
    "    \n",
    "    print(f\"Error Rate (ED-{i}): {error_rate_i}\")\n",
    "    if error_rate_i >= prev_error_rate:\n",
    "        break\n",
    "    prev_error_rate = error_rate_i\n",
    "    i += 1\n"
   ]
  }
 ],
 "metadata": {
  "kernelspec": {
   "display_name": "Python 3",
   "language": "python",
   "name": "python3"
  },
  "language_info": {
   "codemirror_mode": {
    "name": "ipython",
    "version": 3
   },
   "file_extension": ".py",
   "mimetype": "text/x-python",
   "name": "python",
   "nbconvert_exporter": "python",
   "pygments_lexer": "ipython3",
   "version": "3.11.4"
  },
  "orig_nbformat": 4
 },
 "nbformat": 4,
 "nbformat_minor": 2
}

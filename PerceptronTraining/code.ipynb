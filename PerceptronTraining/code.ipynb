{
 "cells": [
  {
   "cell_type": "code",
   "execution_count": null,
   "metadata": {},
   "outputs": [],
   "source": [
    "# Reading Excel Data\n",
    "import pandas as pd\n",
    "dataset = pd.read_excel('Dry_Bean_Dataset.xlsx')\n",
    "print(dataset)"
   ]
  },
  {
   "cell_type": "code",
   "execution_count": null,
   "metadata": {},
   "outputs": [],
   "source": [
    "# Separate the data class - Seker and Barbunya\n",
    "seker_dataset = dataset[dataset['Class']=='SEKER']\n",
    "barbunya_dataset = dataset[dataset['Class']=='BARBUNYA']"
   ]
  },
  {
   "cell_type": "code",
   "execution_count": 16,
   "metadata": {},
   "outputs": [],
   "source": [
    "# Drop Last Column\n",
    "seker_dataset = seker_dataset.drop(seker_dataset.columns[-1], axis=1)\n",
    "barbunya_dataset = barbunya_dataset.drop(barbunya_dataset.columns[-1], axis=1)"
   ]
  },
  {
   "cell_type": "code",
   "execution_count": 17,
   "metadata": {},
   "outputs": [],
   "source": [
    "# Normalizing the data\n",
    "# Formula for normalizing the data -> Fj(i) = (Fj(i) - Min(i))/Max(i)-Min(i)\n",
    "\n",
    "normalized_seker = seker_dataset.copy()\n",
    "for data in normalized_seker:\n",
    "    max_value = dataset[data].max()\n",
    "    min_value = dataset[data].min() \n",
    "    normalized_seker[data] = (normalized_seker[data]-min_value)/(max_value-min_value)\n",
    "\n",
    "normalized_barbunya = barbunya_dataset.copy()\n",
    "for data in barbunya_dataset:\n",
    "    max_value = dataset[data].max()\n",
    "    min_value = dataset[data].min()\n",
    "    normalized_barbunya[data] = (barbunya_dataset[data]-min_value)/(max_value-min_value)"
   ]
  },
  {
   "cell_type": "code",
   "execution_count": null,
   "metadata": {},
   "outputs": [],
   "source": [
    "# Split training and testing data\n",
    "calc_seker = int(0.7*len(seker_dataset))\n",
    "calc_barbunya = int(0.7*len(barbunya_dataset))\n",
    "\n",
    "train_seker = normalized_seker[:calc_seker]\n",
    "test_seker = normalized_seker[calc_seker:]\n",
    "\n",
    "train_barbunya = normalized_barbunya[:calc_barbunya]\n",
    "test_barbunya = normalized_barbunya[calc_barbunya:]"
   ]
  }
 ],
 "metadata": {
  "kernelspec": {
   "display_name": "Python 3",
   "language": "python",
   "name": "python3"
  },
  "language_info": {
   "codemirror_mode": {
    "name": "ipython",
    "version": 3
   },
   "file_extension": ".py",
   "mimetype": "text/x-python",
   "name": "python",
   "nbconvert_exporter": "python",
   "pygments_lexer": "ipython3",
   "version": "3.11.4"
  },
  "orig_nbformat": 4
 },
 "nbformat": 4,
 "nbformat_minor": 2
}

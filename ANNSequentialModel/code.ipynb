{
  "cells": [
    {
      "cell_type": "code",
      "execution_count": 7,
      "metadata": {
        "id": "s3SEvFStfykG"
      },
      "outputs": [],
      "source": [
        "import pandas as pd\n",
        "\n",
        "dataset = pd.read_csv('diabetes.csv')"
      ]
    },
    {
      "cell_type": "code",
      "execution_count": null,
      "metadata": {},
      "outputs": [],
      "source": [
        "normalized_seker = seker_dataset.copy()\n",
        "for data in normalized_seker:\n",
        "    max_value = dataset[data].max()\n",
        "    min_value = dataset[data].min() \n",
        "    normalized_seker[data] = (normalized_seker[data]-min_value)/(max_value-min_value)"
      ]
    },
    {
      "cell_type": "code",
      "execution_count": 8,
      "metadata": {
        "id": "2yb7M40sgjiW"
      },
      "outputs": [],
      "source": [
        "import random\n",
        "data_list = dataset.values.tolist()\n",
        "random.shuffle(data_list)\n",
        "\n",
        "train_data = []\n",
        "test_data = []\n",
        "\n",
        "split_index = int(0.7*len(data_list))\n",
        "train_data = data_list[:split_index]\n",
        "test_data = data_list[split_index:]\n"
      ]
    },
    {
      "cell_type": "code",
      "execution_count": 13,
      "metadata": {
        "colab": {
          "base_uri": "https://localhost:8080/",
          "height": 1000
        },
        "id": "FwCOClSIgrKG",
        "outputId": "5769881f-b0cd-47aa-a029-70c60287da4d"
      },
      "outputs": [
        {
          "name": "stdout",
          "output_type": "stream",
          "text": [
            "Epoch 1/10\n",
            "17/17 [==============================] - 0s 1ms/step - loss: 4.2171 - accuracy: 0.5549\n",
            "Epoch 2/10\n",
            "17/17 [==============================] - 0s 866us/step - loss: 1.6697 - accuracy: 0.6182\n",
            "Epoch 3/10\n",
            "17/17 [==============================] - 0s 926us/step - loss: 1.2456 - accuracy: 0.6387\n",
            "Epoch 4/10\n",
            "17/17 [==============================] - 0s 887us/step - loss: 0.8786 - accuracy: 0.6536\n",
            "Epoch 5/10\n",
            "17/17 [==============================] - 0s 909us/step - loss: 0.8357 - accuracy: 0.6425\n",
            "Epoch 6/10\n",
            "17/17 [==============================] - 0s 863us/step - loss: 0.8380 - accuracy: 0.6685\n",
            "Epoch 7/10\n",
            "17/17 [==============================] - 0s 882us/step - loss: 0.7075 - accuracy: 0.6927\n",
            "Epoch 8/10\n",
            "17/17 [==============================] - 0s 889us/step - loss: 0.6818 - accuracy: 0.6946\n",
            "Epoch 9/10\n",
            "17/17 [==============================] - 0s 812us/step - loss: 0.7679 - accuracy: 0.6480\n",
            "Epoch 10/10\n",
            "17/17 [==============================] - 0s 884us/step - loss: 0.7168 - accuracy: 0.6834\n"
          ]
        },
        {
          "data": {
            "text/plain": [
              "<keras.src.callbacks.History at 0x28c76c5d0>"
            ]
          },
          "execution_count": 13,
          "metadata": {},
          "output_type": "execute_result"
        }
      ],
      "source": [
        "import numpy as np\n",
        "import tensorflow as tf\n",
        "from tensorflow import keras\n",
        "\n",
        "t_data = np.array(train_data)\n",
        "\n",
        "X_train = t_data[:, :-1]\n",
        "y_train = t_data[:, -1]\n",
        "\n",
        "model = keras.Sequential([\n",
        "    keras.layers.Dense(64, activation='relu', input_shape=(X_train.shape[1],)),\n",
        "    keras.layers.Dense(32, activation='relu'),\n",
        "    keras.layers.Dense(1, activation='sigmoid')  \n",
        "])\n",
        "\n",
        "model.compile(optimizer='adam', loss='binary_crossentropy', metrics=['accuracy'])\n",
        "\n",
        "model.fit(X_train, y_train, epochs=100, batch_size=32, validation_data=(X_validation, Y_validation))  \n"
      ]
    }
  ],
  "metadata": {
    "colab": {
      "provenance": []
    },
    "kernelspec": {
      "display_name": "Python 3",
      "name": "python3"
    },
    "language_info": {
      "codemirror_mode": {
        "name": "ipython",
        "version": 3
      },
      "file_extension": ".py",
      "mimetype": "text/x-python",
      "name": "python",
      "nbconvert_exporter": "python",
      "pygments_lexer": "ipython3",
      "version": "3.11.4"
    }
  },
  "nbformat": 4,
  "nbformat_minor": 0
}

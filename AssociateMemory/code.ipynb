{
 "cells": [
  {
   "cell_type": "code",
   "execution_count": 18,
   "metadata": {},
   "outputs": [],
   "source": [
    "# Associative Memory\n",
    "import numpy as np\n",
    "\n",
    "# Input Vectors\n",
    "X1 = np.array([[1], [1], [1], [1], [1], [1]])\n",
    "X2 = np.array([[-1], [-1], [-1], [-1], [-1], [-1]])\n",
    "X3 = np.array([[1], [1], [-1], [-1], [1], [1]])\n",
    "X4 = np.array([[-1], [-1], [1], [1], [-1], [-1]])\n",
    "\n",
    "list_input_vectors = []\n",
    "list_input_vectors.append(X1)\n",
    "list_input_vectors.append(X2)\n",
    "list_input_vectors.append(X3)\n",
    "list_input_vectors.append(X4)\n",
    "\n",
    "# Output Vectors\n",
    "Y1 = np.array([[1], [-1], [1]])\n",
    "Y2 = np.array([[-1], [-1], [1]])\n",
    "Y3 = np.array([[1], [-1], [-1]])\n",
    "Y4 = np.array([[1], [1], [-1]])"
   ]
  },
  {
   "cell_type": "code",
   "execution_count": 20,
   "metadata": {},
   "outputs": [],
   "source": [
    "# Array for the weight matrix\n",
    "\n",
    "# Transpose of matrix\n",
    "\n",
    "trans_Y1 = np.transpose(Y1)\n",
    "trans_Y2 = np.transpose(Y2)\n",
    "trans_Y3 = np.transpose(Y3)\n",
    "trans_Y4 = np.transpose(Y4)\n",
    "\n",
    "tranpose_matrix_vectors = []\n",
    "tranpose_matrix_vectors.append(trans_Y1)\n",
    "tranpose_matrix_vectors.append(trans_Y2)\n",
    "tranpose_matrix_vectors.append(trans_Y3)\n",
    "tranpose_matrix_vectors.append(trans_Y4)\n"
   ]
  },
  {
   "cell_type": "code",
   "execution_count": 46,
   "metadata": {},
   "outputs": [
    {
     "name": "stdout",
     "output_type": "stream",
     "text": [
      "[array([[ 1, -1,  1],\n",
      "       [ 1, -1,  1],\n",
      "       [ 1, -1,  1],\n",
      "       [ 1, -1,  1],\n",
      "       [ 1, -1,  1],\n",
      "       [ 1, -1,  1]]), array([[ 1,  1, -1],\n",
      "       [ 1,  1, -1],\n",
      "       [ 1,  1, -1],\n",
      "       [ 1,  1, -1],\n",
      "       [ 1,  1, -1],\n",
      "       [ 1,  1, -1]]), array([[ 1, -1, -1],\n",
      "       [ 1, -1, -1],\n",
      "       [-1,  1,  1],\n",
      "       [-1,  1,  1],\n",
      "       [ 1, -1, -1],\n",
      "       [ 1, -1, -1]]), array([[-1, -1,  1],\n",
      "       [-1, -1,  1],\n",
      "       [ 1,  1, -1],\n",
      "       [ 1,  1, -1],\n",
      "       [-1, -1,  1],\n",
      "       [-1, -1,  1]])]\n"
     ]
    }
   ],
   "source": [
    "# Matrix Multiplication\n",
    "weight_matrix = []\n",
    "for i in range(0,4):\n",
    "    multi = np.matmul(list_input_vectors[i], tranpose_matrix_vectors[i])\n",
    "    weight_matrix.append(multi)\n",
    "\n",
    "print(weight_matrix)"
   ]
  },
  {
   "cell_type": "code",
   "execution_count": 33,
   "metadata": {},
   "outputs": [
    {
     "name": "stdout",
     "output_type": "stream",
     "text": [
      "Output for X1:\n",
      "[[[ 6  6  2 -2]]\n",
      "\n",
      " [[-6  6 -2 -2]]\n",
      "\n",
      " [[ 6 -6 -2  2]]]\n",
      "Output for X2:\n",
      "[[[-6 -6 -2  2]]\n",
      "\n",
      " [[ 6 -6  2  2]]\n",
      "\n",
      " [[-6  6  2 -2]]]\n",
      "Output for X3:\n",
      "[[[ 2  2  6 -6]]\n",
      "\n",
      " [[-2  2 -6 -6]]\n",
      "\n",
      " [[ 2 -2 -6  6]]]\n",
      "Output for X4:\n",
      "[[[-2 -2 -6  6]]\n",
      "\n",
      " [[ 2 -2  6  6]]\n",
      "\n",
      " [[-2  2  6 -6]]]\n"
     ]
    }
   ],
   "source": [
    "# Verifying\n",
    "weight_matrix_transpose = np.array(weight_matrix).transpose()\n",
    "\n",
    "output_X1 = np.matmul(X1.transpose(), weight_matrix_transpose)\n",
    "output_X2 = np.matmul(X2.transpose(), weight_matrix_transpose)\n",
    "output_X3 = np.matmul(X3.transpose(), weight_matrix_transpose)\n",
    "output_X4 = np.matmul(X4.transpose(), weight_matrix_transpose)\n",
    "\n",
    "print(\"Output for X1:\")\n",
    "print(output_X1)\n",
    "print(\"Output for X2:\")\n",
    "print(output_X2)\n",
    "print(\"Output for X3:\")\n",
    "print(output_X3)\n",
    "print(\"Output for X4:\")\n",
    "print(output_X4)\n"
   ]
  },
  {
   "cell_type": "code",
   "execution_count": 32,
   "metadata": {},
   "outputs": [
    {
     "name": "stdout",
     "output_type": "stream",
     "text": [
      "Input X1: Verification Failed  (Y1).\n",
      "Input X2: Verification Failed  (Y2).\n",
      "Input X3: Verification Failed  (Y3).\n",
      "Input X4: Verification Failed  (Y4).\n"
     ]
    }
   ],
   "source": [
    "# Define the expected output vectors\n",
    "expected_outputs = [Y1, Y2, Y3, Y4]\n",
    "\n",
    "calculated_outputs = [output_X1, output_X2, output_X3, output_X4]\n",
    "\n",
    "for i in range(4):\n",
    "    if np.array_equal(expected_outputs[i], calculated_outputs[i]):\n",
    "        print(f\"Input X{i+1}: Verification Successful  (Y{i+1}).\")\n",
    "    else:\n",
    "        print(f\"Input X{i+1}: Verification Failed  (Y{i+1}).\")\n"
   ]
  },
  {
   "cell_type": "code",
   "execution_count": 31,
   "metadata": {},
   "outputs": [
    {
     "name": "stdout",
     "output_type": "stream",
     "text": [
      "Total number of successes: 0\n"
     ]
    }
   ],
   "source": [
    "# Define the total number of successes\n",
    "total_successes = 0\n",
    "\n",
    "for i in range(4):\n",
    "    input_vector = list_input_vectors[i]\n",
    "    expected_output = expected_outputs[i]\n",
    "    \n",
    "\n",
    "    for m in range(6):\n",
    "\n",
    "        distorted_input = input_vector.copy()\n",
    "        distorted_input[m] = -distorted_input[m]\n",
    "        \n",
    "        distorted_output = np.matmul(distorted_input.transpose(), weight_matrix_transpose)\n",
    "        \n",
    "        if np.array_equal(distorted_output, expected_output):\n",
    "            total_successes += 1\n",
    "\n"
   ]
  },
  {
   "cell_type": "code",
   "execution_count": 66,
   "metadata": {},
   "outputs": [
    {
     "name": "stdout",
     "output_type": "stream",
     "text": [
      "Total number of successes: 1 X1 equals to Y1\n"
     ]
    }
   ],
   "source": [
    "# Define the total number of successes\n",
    "total_successes = 1\n",
    "weight_matrix = ([2,2,2,2,2,2],[-2,-2,-2,-2,-2,-2],[0,0,0,0,0,0])\n",
    "print(f\"Total number of successes: {total_successes} X1 equals to Y1\")\n",
    "for i in range(4):\n",
    "    input_vector = list_input_vectors[i]\n",
    "    expected_output = expected_outputs[i]\n",
    "    \n",
    "    for m in range(6):\n",
    "\n",
    "        distorted_input = input_vector.copy()\n",
    "        distorted_input[m] = -distorted_input[m]\n",
    "        distorted_output = np.dot(distorted_input.flatten(), weight_matrix_transpose[i % 3]) \n",
    "        if np.array_equal(distorted_output, expected_output.flatten()):\n",
    "            total_successes += 1\n",
    "\n"
   ]
  },
  {
   "cell_type": "code",
   "execution_count": 65,
   "metadata": {},
   "outputs": [
    {
     "name": "stdout",
     "output_type": "stream",
     "text": [
      "[2, 2, 2, 2, 2, 2]\n",
      "[-2, -2, -2, -2, -2, -2]\n",
      "[0, 0, 0, 0, 0, 0]\n",
      "12\n",
      "-12\n",
      "0\n"
     ]
    }
   ],
   "source": [
    "\n",
    "for arr in weight_matrix:\n",
    "    print(arr)\n",
    "num = 0\n",
    "for arr in weight_matrix:\n",
    "    num = 0\n",
    "    for val in arr:\n",
    "        num +=val\n",
    "    print(num)\n",
    "\n",
    "    "
   ]
  }
 ],
 "metadata": {
  "kernelspec": {
   "display_name": "Python 3",
   "language": "python",
   "name": "python3"
  },
  "language_info": {
   "codemirror_mode": {
    "name": "ipython",
    "version": 3
   },
   "file_extension": ".py",
   "mimetype": "text/x-python",
   "name": "python",
   "nbconvert_exporter": "python",
   "pygments_lexer": "ipython3",
   "version": "3.11.4"
  },
  "orig_nbformat": 4
 },
 "nbformat": 4,
 "nbformat_minor": 2
}

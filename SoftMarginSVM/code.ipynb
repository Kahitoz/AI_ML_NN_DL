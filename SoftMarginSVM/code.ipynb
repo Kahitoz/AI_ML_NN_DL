{
 "cells": [
  {
   "cell_type": "code",
   "execution_count": 2,
   "metadata": {},
   "outputs": [],
   "source": [
    "import pandas as pd\n",
    "\n",
    "dataframe = pd.read_csv('water_potability.csv')"
   ]
  },
  {
   "cell_type": "code",
   "execution_count": 3,
   "metadata": {},
   "outputs": [],
   "source": [
    "y = dataframe.iloc[:, -1]\n",
    "X = dataframe.iloc[:,:-1]"
   ]
  },
  {
   "cell_type": "code",
   "execution_count": 4,
   "metadata": {},
   "outputs": [],
   "source": [
    "from sklearn.impute import SimpleImputer\n",
    "\n",
    "imputer = SimpleImputer(strategy='mean')\n",
    "X_imputed = imputer.fit_transform(X)\n",
    "\n",
    "X_imputed_df = pd.DataFrame(X_imputed, columns=X.columns)"
   ]
  },
  {
   "cell_type": "code",
   "execution_count": 5,
   "metadata": {},
   "outputs": [],
   "source": [
    "from sklearn.decomposition import PCA\n",
    "\n",
    "pca = PCA(n_components=2)\n",
    "X_pca = pca.fit_transform(X_imputed_df)\n",
    "\n",
    "X_pca_df = pd.DataFrame(data=X_pca, columns=['PC1', 'PC2'])"
   ]
  },
  {
   "cell_type": "code",
   "execution_count": 5,
   "metadata": {},
   "outputs": [],
   "source": [
    "from sklearn.svm import NuSVC\n",
    "from sklearn.model_selection import train_test_split\n",
    "from sklearn.metrics import accuracy_score\n",
    "\n",
    "\n",
    "X_train, X_test, y_train, y_test = train_test_split(X_pca_df, y, test_size=0.2, random_state=42)\n",
    "\n",
    "nu_svm_classifier = NuSVC(nu=0.1, kernel='linear')\n",
    "\n",
    "nu_svm_classifier.fit(X_train, y_train)\n",
    "\n",
    "y_pred = nu_svm_classifier.predict(X_test)\n",
    "\n",
    "accuracy = accuracy_score(y_test, y_pred)\n",
    "print(\"Accuracy of the NuSVC classifier:\", accuracy)\n"
   ]
  },
  {
   "cell_type": "code",
   "execution_count": null,
   "metadata": {},
   "outputs": [],
   "source": [
    "from sklearn.svm import NuSVC\n",
    "from sklearn.model_selection import train_test_split\n",
    "from sklearn.metrics import accuracy_score\n",
    "\n",
    "X_pca_df_sample, _, y_sample, _ = train_test_split(X_pca_df, y, test_size=0.9, random_state=42)\n",
    "\n",
    "X_train, X_test, y_train, y_test = train_test_split(X_pca_df_sample, y_sample, test_size=0.2, random_state=42)\n",
    "\n",
    "penalty_values = [0.01, 0.1, 1, 10, 100, 1000, 10000]\n",
    "\n",
    "accuracy_results = {}\n",
    "\n",
    "for nu in penalty_values:\n",
    "    nu_svm_classifier = NuSVC(nu=nu, kernel='linear')\n",
    "    \n",
    "    nu_svm_classifier.fit(X_train, y_train)\n",
    "    \n",
    "    y_pred = nu_svm_classifier.predict(X_test)\n",
    "\n",
    "    accuracy = accuracy_score(y_test, y_pred)\n",
    "\n",
    "    accuracy_results[nu] = accuracy\n",
    "\n",
    "for nu, accuracy in accuracy_results.items():\n",
    "    print(f\"Accuracy for nu={nu}: {accuracy}\")\n"
   ]
  },
  {
   "cell_type": "code",
   "execution_count": 9,
   "metadata": {},
   "outputs": [
    {
     "name": "stdout",
     "output_type": "stream",
     "text": [
      "Accuracy for polynomial degree 2: 0.5030487804878049\n",
      "Accuracy for polynomial degree 3: 0.5457317073170732\n",
      "Accuracy for polynomial degree 4: 0.510670731707317\n"
     ]
    }
   ],
   "source": [
    "from sklearn.svm import NuSVC\n",
    "from sklearn.model_selection import train_test_split\n",
    "from sklearn.metrics import accuracy_score\n",
    "\n",
    "X_train, X_test, y_train, y_test = train_test_split(X_pca_df, y, test_size=0.2, random_state=42)\n",
    "\n",
    "best_penalty = 1.0 \n",
    "\n",
    "poly_degrees = [2, 3, 4]\n",
    "\n",
    "accuracy_results = {}\n",
    "\n",
    "for degree in poly_degrees:\n",
    "    nu_svm_classifier = NuSVC(nu=0.1, kernel='poly', degree=degree, coef0=1.0, gamma='scale')\n",
    "    \n",
    "    nu_svm_classifier.fit(X_train, y_train)\n",
    "    \n",
    "    y_pred = nu_svm_classifier.predict(X_test)\n",
    "\n",
    "    accuracy = accuracy_score(y_test, y_pred)\n",
    "\n",
    "    accuracy_results[degree] = accuracy\n",
    "\n",
    "for degree, accuracy in accuracy_results.items():\n",
    "    print(f\"Accuracy for polynomial degree {degree}: {accuracy}\")\n"
   ]
  }
 ],
 "metadata": {
  "kernelspec": {
   "display_name": "Python 3",
   "language": "python",
   "name": "python3"
  },
  "language_info": {
   "codemirror_mode": {
    "name": "ipython",
    "version": 3
   },
   "file_extension": ".py",
   "mimetype": "text/x-python",
   "name": "python",
   "nbconvert_exporter": "python",
   "pygments_lexer": "ipython3",
   "version": "3.11.6"
  }
 },
 "nbformat": 4,
 "nbformat_minor": 2
}
